{
 "cells": [
  {
   "cell_type": "code",
   "execution_count": 1,
   "metadata": {},
   "outputs": [],
   "source": [
    "import numpy as np\n",
    "import pickle\n",
    "import os\n",
    "\n",
    "def predict_sales(platform,genre,publisher,region,model_type,models_and_encoder_dir):\n",
    "    '''\n",
    "    This function predicts the sales of a video game for the given platform,\n",
    "    genre, publisher, and region. The type of model used in the prediction is also \n",
    "    selected, and a directory containing these models and the label encoder must\n",
    "    also be specified.\n",
    "    \n",
    "    Valid regions are 'na','eu','jp', and 'global' (not case-sensitive)\n",
    "    Valid models are 'rf','knn','dt', and 'xg' (not case-sensitive)\n",
    "    \n",
    "    :param platform: Platform on which the game is published i.e. 'GBA','PS2',etc.\n",
    "    :type platform: str\n",
    "    :param genre: Genre of the game i.e. 'Sports','Action',etc.\n",
    "    :type genre: str\n",
    "    :param publisher: Company that publishes the game i.e. 'Nintendo','Sega',etc.\n",
    "    :type publisher: str\n",
    "    :param region: Region where sales will be predicted \n",
    "    :type region: str\n",
    "    :param models_and_encoder_dir: Directory containing the pickled files of the models and encoder\n",
    "    :type models_and_encoder_dir: str\n",
    "    \n",
    "    :return sales: Predicted sales in millions of $\n",
    "    :type sales: float\n",
    "    '''\n",
    "    \n",
    "    # Assert that all inputs are strings\n",
    "    assert all(isinstance(param,str) for param in locals().values())\n",
    "    \n",
    "    # Assert that a valid region and model type have been given\n",
    "    region = region.lower()\n",
    "    regions = ['na','eu','jp','global']\n",
    "    model_type = model_type.lower()\n",
    "    models_d = {'rf':'rf_model.pkl',\n",
    "                'knn':'knn_model.pkl',\n",
    "                'dt':'dt_model.pkl',\n",
    "                'xg':'xg_model_'} # xg requires a different model for each region\n",
    "    assert region in regions\n",
    "    assert model_type in models_d.keys()\n",
    "    \n",
    "    # Assert that the pickle files for the encoder and the feature values exist\n",
    "    encoder_file = os.path.join(models_and_encoder_dir,\"encoder.pkl\")\n",
    "    feature_values_file = os.path.join(models_and_encoder_dir,\"feature_values.pkl\")\n",
    "    assert os.path.exists(encoder_file)\n",
    "    assert os.path.exists(feature_values_file)\n",
    "    \n",
    "    # Load the label encoder and the possible values for the features\n",
    "    with open(encoder_file,\"rb\") as f:\n",
    "        le = pickle.load(f)\n",
    "        \n",
    "    with open(feature_values_file,\"rb\") as f:\n",
    "        feature_values = pickle.load(f)\n",
    "        \n",
    "    # Assert that the given parameters are viable inputs to the models\n",
    "    assert platform in feature_values['Platform'] \n",
    "    assert genre in feature_values['Genre']\n",
    "    assert publisher in feature_values['Publisher']\n",
    "    \n",
    "    # Encode the labels for the new input\n",
    "    x1 = le['Platform'].transform([platform])[0]\n",
    "    x2 = le['Genre'].transform([genre])[0]\n",
    "    x3 = le['Publisher'].transform([publisher])[0]\n",
    "    x_new = np.array([x1,x2,x3]).reshape(-1,3)\n",
    "    \n",
    "    \n",
    "    if model_type == 'xg':\n",
    "        # Load specific regional model for xg\n",
    "        model_file = os.path.join(models_and_encoder_dir,models_d[model_type]+region+\".pkl\")\n",
    "        with open(model_file,\"rb\") as f:\n",
    "            model = pickle.load(f)\n",
    "                                  \n",
    "        # Make sales prediction (only outputs sales for given region)\n",
    "        preds = model.predict(x_new)\n",
    "        sales = preds[0]\n",
    "                                  \n",
    "    else:\n",
    "        # Load the specified model\n",
    "        model_file = os.path.join(models_and_encoder_dir,models_d[model_type])\n",
    "        with open(model_file,\"rb\") as f:\n",
    "            model = pickle.load(f)\n",
    "        \n",
    "        # Make sales prediction (outputs all sales for NA,EU,JP, and Global)\n",
    "        preds = model.predict(x_new)\n",
    "        \n",
    "        # Extract specific regional sales\n",
    "        sales = preds[0][regions.index(region)]\n",
    "    \n",
    "    return sales\n",
    "    "
   ]
  },
  {
   "cell_type": "code",
   "execution_count": 2,
   "metadata": {},
   "outputs": [
    {
     "data": {
      "text/plain": [
       "0.00036993849563654054"
      ]
     },
     "execution_count": 2,
     "metadata": {},
     "output_type": "execute_result"
    }
   ],
   "source": [
    "#Examples\n",
    "predict_sales('GC','Action','Nintendo','JP',\"RF\",\"models_and_encoder\")"
   ]
  },
  {
   "cell_type": "code",
   "execution_count": 3,
   "metadata": {},
   "outputs": [
    {
     "data": {
      "text/plain": [
       "0.1227409355159892"
      ]
     },
     "execution_count": 3,
     "metadata": {},
     "output_type": "execute_result"
    }
   ],
   "source": [
    "predict_sales('GC','Action','Nintendo','JP',\"XG\",\"models_and_encoder\")"
   ]
  },
  {
   "cell_type": "code",
   "execution_count": 4,
   "metadata": {},
   "outputs": [
    {
     "data": {
      "text/plain": [
       "0.0003430882057027266"
      ]
     },
     "execution_count": 4,
     "metadata": {},
     "output_type": "execute_result"
    }
   ],
   "source": [
    "predict_sales('GC','Sports','Nintendo','JP',\"RF\",\"models_and_encoder\")"
   ]
  },
  {
   "cell_type": "code",
   "execution_count": 5,
   "metadata": {},
   "outputs": [
    {
     "data": {
      "text/plain": [
       "0.002"
      ]
     },
     "execution_count": 5,
     "metadata": {},
     "output_type": "execute_result"
    }
   ],
   "source": [
    "predict_sales('DS','Racing','Sega','JP',\"KNN\",\"models_and_encoder\")"
   ]
  }
 ],
 "metadata": {
  "kernelspec": {
   "display_name": "Python 3",
   "language": "python",
   "name": "python3"
  },
  "language_info": {
   "codemirror_mode": {
    "name": "ipython",
    "version": 3
   },
   "file_extension": ".py",
   "mimetype": "text/x-python",
   "name": "python",
   "nbconvert_exporter": "python",
   "pygments_lexer": "ipython3",
   "version": "3.8.3"
  }
 },
 "nbformat": 4,
 "nbformat_minor": 4
}
